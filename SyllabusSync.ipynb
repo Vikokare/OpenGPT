{
  "cells": [
    {
      "cell_type": "code",
      "execution_count": null,
      "metadata": {
        "id": "QlbaX-MTcpdj",
        "collapsed": true
      },
      "outputs": [],
      "source": [
        "!pip install -Uq langchain langchain-community"
      ]
    },
    {
      "cell_type": "code",
      "source": [
        "!pip install -Uq unstructured unstructured[pdf]"
      ],
      "metadata": {
        "id": "99ZdiSdr54N-"
      },
      "execution_count": null,
      "outputs": []
    },
    {
      "cell_type": "code",
      "source": [
        "!pip install -Uq sentence-transformers"
      ],
      "metadata": {
        "id": "3ZBAmTVB5z7m"
      },
      "execution_count": null,
      "outputs": []
    },
    {
      "cell_type": "code",
      "source": [
        "!pip install -Uq langchain-pinecone pinecone-client chromadb langchain-chroma"
      ],
      "metadata": {
        "id": "QxTnXuGb5rH3"
      },
      "execution_count": null,
      "outputs": []
    },
    {
      "cell_type": "code",
      "source": [
        "!pip install -Uq langchain-groq"
      ],
      "metadata": {
        "id": "K8J6x_u858bG"
      },
      "execution_count": null,
      "outputs": []
    },
    {
      "cell_type": "code",
      "source": [
        "import os\n",
        "from google.colab import userdata"
      ],
      "metadata": {
        "id": "oGoe-iO-1NTs"
      },
      "execution_count": null,
      "outputs": []
    },
    {
      "cell_type": "code",
      "execution_count": null,
      "metadata": {
        "id": "Mlm-y3VrCwdc"
      },
      "outputs": [],
      "source": [
        "from langchain_community.document_loaders import UnstructuredFileLoader\n",
        "from unstructured.cleaners.core import clean_extra_whitespace\n",
        "from langchain.embeddings import HuggingFaceEmbeddings\n",
        "\n",
        "# from pinecone import Pinecone, ServerlessSpec\n",
        "# from langchain_pinecone import PineconeVectorStore\n",
        "# import pinecone"
      ]
    },
    {
      "cell_type": "code",
      "source": [
        "# from unstructured.partition.pdf import PDFPageLoader\n",
        "# from unstructured.cleaners.core import clean_extra_whitespace\n"
      ],
      "metadata": {
        "id": "CHc9EfvG6YwJ"
      },
      "execution_count": null,
      "outputs": []
    },
    {
      "cell_type": "code",
      "execution_count": null,
      "metadata": {
        "id": "7Yb97b5NRR9W"
      },
      "outputs": [],
      "source": [
        "folder_name = 'user_documents'\n",
        "if not os.path.exists(folder_name):\n",
        "  os.makedirs(folder_name)\n",
        "  print(\"Directory created...\")\n",
        "else:\n",
        "  print(\"Directory already exist...\")"
      ]
    },
    {
      "cell_type": "code",
      "execution_count": null,
      "metadata": {
        "id": "908oM07TRCSD"
      },
      "outputs": [],
      "source": [
        "from google.colab import files\n",
        "uploaded = files.upload()"
      ]
    },
    {
      "cell_type": "code",
      "execution_count": null,
      "metadata": {
        "id": "B_xGMtZ2Vvta"
      },
      "outputs": [],
      "source": [
        "for file_name in uploaded:\n",
        "  os.rename(file_name, f'{folder_name}/{file_name}')\n",
        "print(\"Uploaded files moved to user_documents\")"
      ]
    },
    {
      "cell_type": "code",
      "execution_count": null,
      "metadata": {
        "id": "itSlyiAaXbD6"
      },
      "outputs": [],
      "source": [
        "print(\"List of files uploaded are: \")\n",
        "dir = os.listdir(folder_name)\n",
        "for i in dir :\n",
        "  if i == '.ipynb_checkpoints':\n",
        "    dir.pop()\n",
        "    print(\"popped: \", i)\n",
        "    continue\n",
        "  print(\" - \", i)"
      ]
    },
    {
      "cell_type": "code",
      "source": [
        "%pip install --upgrade --quiet unstructured"
      ],
      "metadata": {
        "id": "KVh-w1u19K9B"
      },
      "execution_count": null,
      "outputs": []
    },
    {
      "cell_type": "code",
      "source": [
        "from langchain_community.document_loaders import UnstructuredPDFLoader"
      ],
      "metadata": {
        "id": "oi1g_np09OjH"
      },
      "execution_count": null,
      "outputs": []
    },
    {
      "cell_type": "code",
      "source": [
        "for file in dir:\n",
        "  print(file)\n",
        "  loader = UnstructuredPDFLoader(\n",
        "      f'user_documents/{file}',\n",
        "      mode='elements',\n",
        "      strategy='fast',\n",
        "      postprocessors=[clean_extra_whitespace]\n",
        "  )\n",
        "doc = loader.load()"
      ],
      "metadata": {
        "id": "hDXQ6IRr9SGe"
      },
      "execution_count": null,
      "outputs": []
    },
    {
      "cell_type": "code",
      "source": [
        "print(doc[1].metadata)\n",
        "print(doc[1].page_content)"
      ],
      "metadata": {
        "id": "LMN30xu2OXTr"
      },
      "execution_count": null,
      "outputs": []
    },
    {
      "cell_type": "code",
      "source": [
        "doc_chunk = []\n",
        "for count in range(1, doc[-1].metadata['page_number']):\n",
        "  string = \"\"\n",
        "  print(\"Page: \", count)\n",
        "  for i in doc:\n",
        "    if i.metadata['page_number'] == count:\n",
        "      string += \" \" + i.page_content\n",
        "  print(string)\n",
        "doc_chunk.append(string)"
      ],
      "metadata": {
        "id": "swRen2PJA-0C"
      },
      "execution_count": null,
      "outputs": []
    },
    {
      "cell_type": "code",
      "source": [
        "# for file in dir :\n",
        "#   print(file)\n",
        "#   loaded = UnstructuredFileLoader(\n",
        "#       f'user_documents/{file}',\n",
        "#       mode='elements',\n",
        "#       strategy='fast',\n",
        "#       post_processors=[clean_extra_whitespace]\n",
        "#   )\n",
        "#   doc = loaded.load()"
      ],
      "metadata": {
        "id": "O-baTuSO-qwc"
      },
      "execution_count": null,
      "outputs": []
    },
    {
      "cell_type": "code",
      "source": [
        "# doc_chunk = []\n",
        "# for count in range(1, doc[-1].metadata['page_number']):\n",
        "#   string = \"\"\n",
        "#   print(\"Page: \", count)\n",
        "#   for i in doc:\n",
        "#     if i.metadata['page_number'] == count:\n",
        "#       string += i.page_content\n",
        "#   doc_chunk.append(string)\n",
        "#   print(string)"
      ],
      "metadata": {
        "id": "0wCWp5jfBRDX"
      },
      "execution_count": null,
      "outputs": []
    },
    {
      "cell_type": "code",
      "source": [
        "# # Load the document by pages\n",
        "# loaded = PDFPageLoader(\n",
        "#     f'user_documents/ubuntu-server-guide-2022-08-03.pdf',\n",
        "#     mode='elements',\n",
        "#     strategy='fast',\n",
        "#     post_processors=[clean_extra_whitespace]\n",
        "# )\n",
        "\n",
        "# # Iterate over pages and load them\n",
        "# docs_by_page = []\n",
        "# for i, page in enumerate(loaded.load()):\n",
        "#     page_doc = loaded.load(page_number=i + 1)  # Page numbers are 1-indexed\n",
        "#     docs_by_page.append(page_doc)\n"
      ],
      "metadata": {
        "id": "nvpCx4hCJRSR"
      },
      "execution_count": null,
      "outputs": []
    },
    {
      "cell_type": "code",
      "source": [
        "# docs_by_page = []\n",
        "# for i, page in enumerate(doc, 1):\n",
        "#     page_doc = loaded.load(page_number=i)  # Page numbers are 1-indexed\n",
        "#     docs_by_page.append(page_doc)\n"
      ],
      "metadata": {
        "id": "GMmbAh0PIk5R"
      },
      "execution_count": null,
      "outputs": []
    },
    {
      "cell_type": "code",
      "execution_count": null,
      "metadata": {
        "id": "K-PPrUwsJnc6",
        "collapsed": true
      },
      "outputs": [],
      "source": [
        "# doc"
      ]
    },
    {
      "cell_type": "code",
      "execution_count": null,
      "metadata": {
        "collapsed": true,
        "id": "x6N2Ia4_Eg1Q"
      },
      "outputs": [],
      "source": [
        "# doc_chunk = []\n",
        "# for count in range(1, doc[-1].metadata['page_number']):\n",
        "#   string = \"\"\n",
        "#   print(\"Page: \", count)\n",
        "#   for i in doc:\n",
        "#     if i.metadata['page_number'] == count:\n",
        "#       string += i.page_content\n",
        "#   doc_chunk.append(string)\n",
        "#   print(string)"
      ]
    },
    {
      "cell_type": "code",
      "execution_count": null,
      "metadata": {
        "id": "4WrQJQMjNeyW"
      },
      "outputs": [],
      "source": [
        "# doc_chunk"
      ]
    },
    {
      "cell_type": "code",
      "source": [
        "embedding_model_1 = HuggingFaceEmbeddings(model_name=\"all-MiniLM-L6-v2\")"
      ],
      "metadata": {
        "id": "d-VdHqK3FdzN"
      },
      "execution_count": null,
      "outputs": []
    },
    {
      "cell_type": "code",
      "source": [
        "embedding_model_2 = HuggingFaceEmbeddings(model_name=\"all-MiniLM-L6-v2\")"
      ],
      "metadata": {
        "id": "jLMc6m3D759d"
      },
      "execution_count": null,
      "outputs": []
    },
    {
      "cell_type": "code",
      "source": [
        "if not os.path.exists('chroma_db'):\n",
        "  os.makedirs('chroma_db')\n",
        "  print(\"Directory created...\")\n",
        "else:\n",
        "  print(\"Directory already exist...\")"
      ],
      "metadata": {
        "id": "ilu4pyCZGmTZ"
      },
      "execution_count": null,
      "outputs": []
    },
    {
      "cell_type": "code",
      "source": [
        "from langchain_chroma import Chroma\n",
        "\n",
        "vector_store = Chroma(\n",
        "    collection_name=\"example_collection\",\n",
        "    embedding_function=embedding_model_1,\n",
        "    persist_directory=\"./chroma_db\"\n",
        ")"
      ],
      "metadata": {
        "id": "tw6vcHhKFvCC"
      },
      "execution_count": null,
      "outputs": []
    },
    {
      "cell_type": "code",
      "source": [
        "from uuid import uuid4"
      ],
      "metadata": {
        "id": "ImA0yldhG4YP"
      },
      "execution_count": null,
      "outputs": []
    },
    {
      "cell_type": "code",
      "source": [
        "from langchain_core.documents import Document"
      ],
      "metadata": {
        "id": "Z8zOrgjmHDbG"
      },
      "execution_count": null,
      "outputs": []
    },
    {
      "cell_type": "code",
      "source": [
        "doc_chunk = []\n",
        "for count in range(1, doc[-1].metadata['page_number']):\n",
        "  string = \"\"\n",
        "  for i in doc:\n",
        "    if i.metadata['page_number'] == count:\n",
        "      string +=i.page_content\n",
        "  document = Document(\n",
        "      page_content = string,\n",
        "      metadata = {\n",
        "          \"filename\": doc[0].metadata[\"filename\"],\n",
        "          \"filetype\": doc[0].metadata[\"filetype\"],\n",
        "          \"page_number\": i.metadata[\"page_number\"]\n",
        "      }\n",
        "  )\n",
        "  doc_chunk.append(document)"
      ],
      "metadata": {
        "id": "9x3865QIHIXR"
      },
      "execution_count": null,
      "outputs": []
    },
    {
      "cell_type": "code",
      "source": [
        "doc[0].metadata"
      ],
      "metadata": {
        "id": "4sh9J8PuKuJ6"
      },
      "execution_count": null,
      "outputs": []
    },
    {
      "cell_type": "code",
      "source": [
        "doc_chunk[0]"
      ],
      "metadata": {
        "id": "4dms7sr-NFsl"
      },
      "execution_count": null,
      "outputs": []
    },
    {
      "cell_type": "code",
      "source": [
        "for doc in doc_chunk:\n",
        "  vector_store.add_documents(documents=doc.page, ids=str(uuid4()))"
      ],
      "metadata": {
        "id": "EWpLTLieI5LC"
      },
      "execution_count": null,
      "outputs": []
    },
    {
      "cell_type": "code",
      "source": [
        "document_1 = Document(\n",
        "    page_content=\"Ubuntu Server GuideWelcome to the Ubuntu Server Guide! This site includes information on using Ubuntu Server for Ubuntu 20.04 LTS (Focal Fossa) and later . For an offline version as well as versions for previous releases see below.Getting Started:Basic Install Automated Install Cloud Images Software Containers Run Ubuntu Server software in dedicated containersInstall Server Edition using the installer Automate installation using autoinstall Run Ubuntu Server Edition on a public cloud providerRefining Your Infrastructure:Networking Networked Storage Configure multiple I/O paths for storage Security Virtualization High Availability MonitoringRegister network devicesProtect your server and network Separate your services into virtualized environments Cluster systems redundantly to minimize down-time Ensure infrastructure availabilityConfiguring Your Services:Databases Backups Mail Servers Web ServersInstall database servers Establish your backup plans Set up e-mail services Set up web servicesSupportThere are a couple of different ways that the Ubuntu Server edition is supported: commercial support and community support. The main commercial support (and development funding) is available from Canonical, Ltd. They supply reasonably- priced support contracts on a per desktop or per-server basis. For more information see the Ubuntu Advantage page.Community support is also provided by dedicated individuals and companies that wish to make Ubuntu the best distribution possible. Support is provided through multiple mailing lists, IRC channels, forums, blogs, wikis, etc. The large amount of information available can be overwhelming, but a good search engine query can usually provide an answer to your questions. See the Ubuntu Support page for more information.Improving the DocumentationIf you find any errors or have suggestions for improvements to pages, please use the link at the bottom of each topic titled: “Help improve this document in the forum.” This link will take you to the Server Discourse forum for the specific page you are viewing. There you can share your comments or let us know about bugs with any page.PDFs and Previous ReleasesBelow are links to the previous Ubuntu Server release server guides as well as an offline copy of the current version of this site:Ubuntu 20.04 LTS (Focal Fossa) and later: PDF Ubuntu 18.04 LTS (Bionic Beaver): Web and PDFNavigationNavigationLevel PathNavlink1 0Introduction Getting started1\",\n",
        "    metadata={'filename': 'ubuntu-server-guide-2022-08-03.pdf', 'filetype': 'application/pdf', 'page_number': 383},\n",
        "    id=1,\n",
        ")\n",
        "vector_store.add_documents(documents=[document_1], ids=[str(uuid4())])\n"
      ],
      "metadata": {
        "id": "4kmsBxGUNpPN"
      },
      "execution_count": null,
      "outputs": []
    }
  ],
  "metadata": {
    "colab": {
      "provenance": []
    },
    "kernelspec": {
      "display_name": "Python 3",
      "name": "python3"
    },
    "language_info": {
      "name": "python"
    }
  },
  "nbformat": 4,
  "nbformat_minor": 0
}